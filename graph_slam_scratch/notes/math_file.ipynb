{
 "cells": [
  {
   "cell_type": "code",
   "execution_count": 1,
   "metadata": {},
   "outputs": [
    {
     "ename": "KeyboardInterrupt",
     "evalue": "",
     "output_type": "error",
     "traceback": [
      "\u001b[0;31m---------------------------------------------------------------------------\u001b[0m",
      "\u001b[0;31mKeyboardInterrupt\u001b[0m                         Traceback (most recent call last)",
      "\u001b[1;32m/Users/emma/dev/robotics/Localisation_and_Slam_algorithms_implimentation/graph_slam_scratch/notes/math_file.ipynb Cell 1'\u001b[0m in \u001b[0;36m<cell line: 1>\u001b[0;34m()\u001b[0m\n\u001b[0;32m----> <a href='vscode-notebook-cell:/Users/emma/dev/robotics/Localisation_and_Slam_algorithms_implimentation/graph_slam_scratch/notes/math_file.ipynb#ch0000000?line=0'>1</a>\u001b[0m \u001b[39mimport\u001b[39;00m \u001b[39mnumpy\u001b[39;00m \u001b[39mas\u001b[39;00m \u001b[39mnp\u001b[39;00m\n\u001b[1;32m      <a href='vscode-notebook-cell:/Users/emma/dev/robotics/Localisation_and_Slam_algorithms_implimentation/graph_slam_scratch/notes/math_file.ipynb#ch0000000?line=1'>2</a>\u001b[0m rotation \u001b[39m=\u001b[39m np\u001b[39m.\u001b[39midentity(\u001b[39m3\u001b[39m)\n\u001b[1;32m      <a href='vscode-notebook-cell:/Users/emma/dev/robotics/Localisation_and_Slam_algorithms_implimentation/graph_slam_scratch/notes/math_file.ipynb#ch0000000?line=2'>3</a>\u001b[0m \u001b[39mprint\u001b[39m(rotation)\n",
      "File \u001b[0;32m/opt/anaconda3/lib/python3.9/site-packages/numpy/__init__.py:337\u001b[0m, in \u001b[0;36m<module>\u001b[0;34m\u001b[0m\n\u001b[1;32m    <a href='file:///opt/anaconda3/lib/python3.9/site-packages/numpy/__init__.py?line=333'>334</a>\u001b[0m \u001b[39mdel\u001b[39;00m PytestTester\n\u001b[1;32m    <a href='file:///opt/anaconda3/lib/python3.9/site-packages/numpy/__init__.py?line=335'>336</a>\u001b[0m \u001b[39mimport\u001b[39;00m \u001b[39mmkl\u001b[39;00m\n\u001b[0;32m--> <a href='file:///opt/anaconda3/lib/python3.9/site-packages/numpy/__init__.py?line=336'>337</a>\u001b[0m __mkl_version__ \u001b[39m=\u001b[39m \u001b[39m\"\u001b[39m\u001b[39m{MajorVersion}\u001b[39;00m\u001b[39m.\u001b[39m\u001b[39m{MinorVersion}\u001b[39;00m\u001b[39m.\u001b[39m\u001b[39m{UpdateVersion}\u001b[39;00m\u001b[39m\"\u001b[39m\u001b[39m.\u001b[39mformat(\u001b[39m*\u001b[39m\u001b[39m*\u001b[39mmkl\u001b[39m.\u001b[39;49mget_version())\n\u001b[1;32m    <a href='file:///opt/anaconda3/lib/python3.9/site-packages/numpy/__init__.py?line=339'>340</a>\u001b[0m \u001b[39mdef\u001b[39;00m \u001b[39m_sanity_check\u001b[39m():\n\u001b[1;32m    <a href='file:///opt/anaconda3/lib/python3.9/site-packages/numpy/__init__.py?line=340'>341</a>\u001b[0m     \u001b[39m\"\"\"\u001b[39;00m\n\u001b[1;32m    <a href='file:///opt/anaconda3/lib/python3.9/site-packages/numpy/__init__.py?line=341'>342</a>\u001b[0m \u001b[39m    Quick sanity checks for common bugs caused by environment.\u001b[39;00m\n\u001b[1;32m    <a href='file:///opt/anaconda3/lib/python3.9/site-packages/numpy/__init__.py?line=342'>343</a>\u001b[0m \u001b[39m    There are some cases e.g. with wrong BLAS ABI that cause wrong\u001b[39;00m\n\u001b[0;32m   (...)\u001b[0m\n\u001b[1;32m    <a href='file:///opt/anaconda3/lib/python3.9/site-packages/numpy/__init__.py?line=348'>349</a>\u001b[0m \n\u001b[1;32m    <a href='file:///opt/anaconda3/lib/python3.9/site-packages/numpy/__init__.py?line=349'>350</a>\u001b[0m \u001b[39m    \"\"\"\u001b[39;00m\n",
      "\u001b[0;31mKeyboardInterrupt\u001b[0m: "
     ]
    }
   ],
   "source": [
    "import numpy as np\n",
    "rotation = np.identity(3)\n",
    "print(rotation)"
   ]
  },
  {
   "cell_type": "code",
   "execution_count": null,
   "metadata": {},
   "outputs": [],
   "source": []
  }
 ],
 "metadata": {
  "interpreter": {
   "hash": "40d3a090f54c6569ab1632332b64b2c03c39dcf918b08424e98f38b5ae0af88f"
  },
  "kernelspec": {
   "display_name": "Python 3.9.12",
   "language": "python",
   "name": "python3"
  },
  "language_info": {
   "codemirror_mode": {
    "name": "ipython",
    "version": 3
   },
   "file_extension": ".py",
   "mimetype": "text/x-python",
   "name": "python",
   "nbconvert_exporter": "python",
   "pygments_lexer": "ipython3",
   "version": "3.9.12"
  },
  "orig_nbformat": 4
 },
 "nbformat": 4,
 "nbformat_minor": 2
}
