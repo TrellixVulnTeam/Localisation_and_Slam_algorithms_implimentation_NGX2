{
 "cells": [
  {
   "cell_type": "markdown",
   "metadata": {},
   "source": [
    "## Calculations for jacobian from Graph slamm tutorial paper"
   ]
  },
  {
   "cell_type": "markdown",
   "metadata": {},
   "source": [
    "According to the previous explanation we have:\n",
    "\n",
    "$X_{i}^{-1}X_{j} = \\begin{bmatrix} R & t\\\\ 0 & 1 \\end{bmatrix}$"
   ]
  },
  {
   "cell_type": "markdown",
   "metadata": {},
   "source": [
    "Inversion of a block transformation matrix can be expresed with the following formula:\n",
    "\n",
    "$\\begin{bmatrix} R & t\\\\ 0 & 1 \\end{bmatrix}^{-1} = \\begin{bmatrix} \\begin{bmatrix} I & t\\\\ 0 & 1 \\end{bmatrix} & \\begin{bmatrix} R & 0 \\\\ 0 & 1 \\end{bmatrix} \\end{bmatrix}^{-1} = \\begin{bmatrix} \\begin{bmatrix} R & 0 \\\\ 0 & 1 \\end{bmatrix}^ {-1} & \\begin{bmatrix} I & t\\\\ 0 & 1 \\end{bmatrix}^{-1} \\end{bmatrix}=\\begin{bmatrix} \\begin{bmatrix} R^{T} & 0\\\\ 0 & 1 \\end{bmatrix}&\\begin{bmatrix} I & -t\\\\ 0 & 1 \\end{bmatrix} \\end{bmatrix}= \\begin{bmatrix} R^{T} & -R^{T}t\\\\ 0 & 1 \\end{bmatrix}$"
   ]
  },
  {
   "cell_type": "markdown",
   "metadata": {},
   "source": [
    "So we can rewrite the error function in the following form:\n",
    "\n",
    "$Z_{ij}^{-1}(X_{i}^{-1}X_{j}) = \\begin{bmatrix} R' & t'\\\\ 0 & 1 \\end{bmatrix}^{-1} \\begin{bmatrix} R & t\\\\ 0 & 1 \\end{bmatrix}=\\begin{bmatrix} R'^{T} & -R't'\\\\ 0 & 1 \\end{bmatrix}\\begin{bmatrix} R & t\\\\ 0 & 1 \\end{bmatrix}=\\begin{bmatrix} R'^{T}R & Rt-R't'\\\\ 0 & 1 \\end{bmatrix}=\\begin{bmatrix}R'^{T}R & R'^{T}(t-t')\\\\0 & 1\\end{bmatrix}$"
   ]
  },
  {
   "cell_type": "markdown",
   "metadata": {},
   "source": [
    "And the same function in the vectorized form:\n",
    "\n",
    "$e_{ij}(x_i,x_j)=Z_{ij}^{-1}(\\begin{bmatrix}R_i^{T}(t_j-t_i)\\\\ \\theta_j - \\theta_i \\end{bmatrix})$\n",
    "\n",
    "$\\Delta t_{ij} = R_{z}^{T}\\begin{bmatrix} R_{i}^{T}(\\begin{bmatrix} x_j \\\\ y_j\\end{bmatrix} - \\begin{bmatrix} x_i \\\\ y_i\\end{bmatrix}) - \\begin{bmatrix} x_z \\\\ y_z\\end{bmatrix})\\end{bmatrix}$\n",
    "\n",
    "$\\Delta \\theta_{ij} = (\\theta_j - \\theta_i) - \\theta_z$\n"
   ]
  },
  {
   "cell_type": "markdown",
   "metadata": {},
   "source": [
    "The form of the $X$ vector for the optimization problem - is one long vector stacked from all pose vectors:\n",
    "\n",
    "$x =[(x_1, y_1, \\theta_1), (x_2, y_2, \\theta_2), ...., (x_n, y_n, \\theta_n)]$\n",
    "\n",
    "Our error term doesn't depend on all state variables but on only on 3 values blocks related to the $i$-th and $j$-th poses.\n",
    "\n",
    "And this fact is also visible in the form of Jacobian:\n",
    "\n",
    "$J_{ij} = \\begin{bmatrix} 0 & ... & 0 & A_{ij} &  0 & ... & 0 & B_{ij} & 0 & ... & 0 \\end{bmatrix}$\n",
    "\n",
    "$A_{ij} = \\frac{\\partial e_{ij}(x_i)}{\\partial x_i}$\n",
    "\n",
    "$B_{ij} = \\frac{\\partial e_{ij}(x_j)}{\\partial x_j}$"
   ]
  },
  {
   "cell_type": "markdown",
   "metadata": {},
   "source": [
    "So for $A_{ij}$ and $B_{ij}$ we have the following formulas:\n",
    "\n",
    "$A_{ij} = \\begin{bmatrix} -R_{z}^T R_{i}^T &  R_{z}^T \\frac{\\partial R_{i}^T}{\\partial \\theta_i} (t_j - t_i) \\\\ 0 & -1 \\end{bmatrix}$\n",
    "\n",
    "where:\n",
    "\n",
    "1. the 3x2 block $\\begin{bmatrix}-R_{z}^T R_{i}^T \\\\ 0 \\end{bmatrix}$ is the partial derrivative of $\\Delta t_{ij}$ in the top and  $\\Delta \\theta_{ij}$ in the bottom w.r.t $\\left[x_i y_i\\right]$\n",
    "\n",
    "2. the 3x1 block $\\begin{bmatrix} R_{z}^T \\frac{\\partial R_{i}^T}{\\partial \\theta_i} (t_j - t_i) \\\\ -1 \\end{bmatrix}$ is the partial derrivative of $\\Delta t_{ij}$ in the top and  $\\Delta \\theta_{ij}$ in the bottom w.r.t $\\theta_i$\n",
    "\n",
    "3. $\\frac{\\partial R_{i}^T}{\\partial \\theta_i} = \\begin{bmatrix} -sin(\\theta_i) & cos(\\theta_i) \\\\  -cos(\\theta_i) & -sin(\\theta_i) \\end{bmatrix}$\n",
    "\n",
    "In the same manner we take partial derrivatives w.r.t $\\left[x_j y_j\\right]$ and $\\theta_j$:\n",
    "\n",
    "\n",
    "$B_{ij} = \\begin{bmatrix} R_{z}^T R_{i}^T &  0 \\\\ 0 & 1 \\end{bmatrix}$"
   ]
  },
  {
   "cell_type": "code",
   "execution_count": null,
   "metadata": {},
   "outputs": [],
   "source": [
    "import numpy as np\n",
    "\n",
    "si = np.sin(v_i[2])\n",
    "ci = np.cos(v_i[2])\n",
    "dr_i = np.array([[-si, ci], [-ci, -si]]).T\n",
    "dt_ij = np.array([v_j[:2] - v_i[:2]]).T\n",
    "\n",
    "t_i = v2t(v_i)\n",
    "t_j = v2t(v_j)\n",
    "r_i = t_i[:2,:2]\n",
    "r_z = t_z[:2,:2]\n",
    "\n",
    "a_ij = np.vstack((np.hstack((-r_z.T @ r_i.T, (r_z.T @ dr_i.T) @ dt_ij)), \n",
    "                         [0, 0, -1]))\n",
    "print(f'The shape of A_ij is {a_ij.shape}')\n",
    "\n",
    "b_ij = np.vstack((np.hstack((r_z.T @ r_i.T, np.zeros((2,1)))),\n",
    "                         [0, 0, 1]))\n",
    "print(f'The shape of B_ij is {b_ij.shape}')"
   ]
  },
  {
   "cell_type": "code",
   "execution_count": 12,
   "metadata": {},
   "outputs": [
    {
     "name": "stdout",
     "output_type": "stream",
     "text": [
      "[[1. 0. 0.]\n",
      " [0. 1. 0.]\n",
      " [0. 0. 1.]]\n"
     ]
    }
   ],
   "source": [
    "\n",
    "class Frame:\n",
    "    def __init__(self, observed_points):\n",
    "        self.position = np.array([0., 0., 0.])\n",
    "        self.rotation = np.identity(3)\n",
    "        self.relative_icp_position = np.array([0., 0., 0.])  # relative to the previous frame\n",
    "        self.relative_icp_rotation = np.identity(3)  # relative to the previous frame\n",
    "frame= Frame([])\n",
    "print(frame.rotation)"
   ]
  },
  {
   "cell_type": "code",
   "execution_count": 13,
   "metadata": {},
   "outputs": [],
   "source": [
    "rot = frame.rotation[:2]"
   ]
  },
  {
   "cell_type": "code",
   "execution_count": 14,
   "metadata": {},
   "outputs": [
    {
     "name": "stdout",
     "output_type": "stream",
     "text": [
      "[[1. 0. 0.]\n",
      " [0. 1. 0.]]\n"
     ]
    }
   ],
   "source": [
    "print(rot)"
   ]
  },
  {
   "cell_type": "code",
   "execution_count": 7,
   "metadata": {},
   "outputs": [],
   "source": [
    "tr = np.identity(3)\n",
    "relative_icp_rotation = np.identity(3)\n",
    "relative_icp_position = np.array([0., 0., 0.])\n",
    "# relative_icp_rotation = np.array([0., 0., 0.]) \n",
    "tr[:, :] = relative_icp_rotation\n",
    "tr[:2, 2] = relative_icp_position[:2]"
   ]
  },
  {
   "cell_type": "code",
   "execution_count": 8,
   "metadata": {},
   "outputs": [
    {
     "name": "stdout",
     "output_type": "stream",
     "text": [
      "[[1. 0. 0.]\n",
      " [0. 1. 0.]\n",
      " [0. 0. 1.]]\n"
     ]
    }
   ],
   "source": [
    "print(tr)"
   ]
  },
  {
   "cell_type": "code",
   "execution_count": 10,
   "metadata": {},
   "outputs": [
    {
     "data": {
      "text/plain": [
       "array([0., 0.])"
      ]
     },
     "execution_count": 10,
     "metadata": {},
     "output_type": "execute_result"
    }
   ],
   "source": [
    "relative_icp_position[:2]"
   ]
  },
  {
   "cell_type": "code",
   "execution_count": null,
   "metadata": {},
   "outputs": [],
   "source": []
  }
 ],
 "metadata": {
  "interpreter": {
   "hash": "40d3a090f54c6569ab1632332b64b2c03c39dcf918b08424e98f38b5ae0af88f"
  },
  "kernelspec": {
   "display_name": "Python 3.9.12",
   "language": "python",
   "name": "python3"
  },
  "language_info": {
   "codemirror_mode": {
    "name": "ipython",
    "version": 3
   },
   "file_extension": ".py",
   "mimetype": "text/x-python",
   "name": "python",
   "nbconvert_exporter": "python",
   "pygments_lexer": "ipython3",
   "version": "3.9.12"
  },
  "orig_nbformat": 4
 },
 "nbformat": 4,
 "nbformat_minor": 2
}
